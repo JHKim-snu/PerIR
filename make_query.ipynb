{
 "cells": [
  {
   "cell_type": "code",
   "execution_count": 2,
   "metadata": {},
   "outputs": [],
   "source": [
    "import json"
   ]
  },
  {
   "cell_type": "code",
   "execution_count": 3,
   "metadata": {},
   "outputs": [
    {
     "name": "stdout",
     "output_type": "stream",
     "text": [
      "dict_keys(['absolute', 'agent', 'amazon', 'atomic', 'balance', 'band', 'bar', 'bark', 'base', 'basis', 'battery', 'beam', 'beat', 'bench', 'block', 'board', 'bolt', 'bond', 'buffer', 'bug', 'capital', 'carrier', 'case', 'cell', 'center', 'channel', 'character', 'charge', 'check', 'circuit', 'class', 'clean', 'clip', 'cluster', 'clustering', 'complex', 'compound', 'conductor', 'console', 'control', 'core', 'corner', 'corpus', 'crack', 'crane', 'crash', 'criterion', 'current', 'cycle', 'date', 'deck', 'deduction', 'delta', 'depth', 'development', 'dial', 'domain', 'dot', 'draft', 'drift', 'elasticity', 'element', 'emission', 'ensemble', 'feature', 'field', 'file', 'filter', 'flow', 'focus', 'frame', 'fusion', 'graph', 'grid', 'ground', 'horn', 'hull', 'identity', 'kernel', 'key', 'layer', 'left', 'line', 'link', 'localization', 'mark', 'market', 'master', 'matrix', 'medium', 'mint', 'mode', 'mole', 'nail', 'needle', 'net', 'network', 'node', 'norm', 'note', 'object', 'organic', 'pad', 'palm', 'panel', 'patch', 'period', 'phoenix', 'pitch', 'plane', 'plate', 'plot', 'point', 'pool', 'portfolio', 'post', 'pot', 'pound', 'power', 'probe', 'protocol', 'queue', 'race', 'rack', 'radical', 'range', 'recognition', 'regression', 'representation', 'resolution', 'reward', 'ring', 'rock', 'rod', 'roll', 'round', 'scale', 'scope', 'seal', 'segmentation', 'sell', 'server', 'service', 'set', 'sheet', 'show', 'sketch', 'solution', 'spring', 'stake', 'state', 'stem', 'strain', 'stress', 'strike', 'swift', 'tablet', 'tag', 'tap', 'terminal', 'thread', 'tie', 'tissue', 'tone', 'unity', 'value', 'vector', 'vision', 'warrant', 'web', 'yield', 'yolo'])\n",
      "172\n"
     ]
    }
   ],
   "source": [
    "json_file_path = './data/polyseme_wiki.json'\n",
    "\n",
    "with open(json_file_path, 'r') as json_file:\n",
    "    polyseme_wiki = json.load(json_file)\n",
    "\n",
    "print(polyseme_wiki.keys())\n",
    "print(len(polyseme_wiki.keys()))"
   ]
  },
  {
   "cell_type": "code",
   "execution_count": 4,
   "metadata": {},
   "outputs": [],
   "source": [
    "import openai\n",
    "\n",
    "OPENAI_API_KEY = ''\n",
    "openai.api_key = OPENAI_API_KEY\n",
    "\n",
    "model = \"gpt-3.5-turbo\"\n"
   ]
  },
  {
   "cell_type": "markdown",
   "metadata": {},
   "source": [
    "# Make Query Data"
   ]
  },
  {
   "cell_type": "code",
   "execution_count": 5,
   "metadata": {},
   "outputs": [],
   "source": [
    "num_query = 3\n",
    "data = {}\n",
    "save_json_path = './data/gpt_query.json'"
   ]
  },
  {
   "cell_type": "code",
   "execution_count": 12,
   "metadata": {},
   "outputs": [
    {
     "name": "stdout",
     "output_type": "stream",
     "text": [
      "Data generating ... 0.0\n",
      "Data generating ... 11.627906976744185\n",
      "Data generating ... 23.25581395348837\n",
      "Data generating ... 34.883720930232556\n",
      "answer is not in a dictionary format\n",
      "Data generating ... 46.51162790697674\n",
      "Data generating ... 58.139534883720934\n",
      "Data generating ... 69.76744186046511\n",
      "Data generating ... 81.3953488372093\n",
      "Data generating ... 93.02325581395348\n"
     ]
    }
   ],
   "source": [
    "for i, polyseme in enumerate(polyseme_wiki.keys()):\n",
    "    if i%20 == 0:\n",
    "        print(\"Data generating ... {}\".format(i/len(polyseme_wiki.keys())*100))\n",
    "    if polyseme in data.keys():\n",
    "        continue\n",
    "    else:\n",
    "        # role = \"You are a student who is interested in a specific field.\\n\"\n",
    "        example1 = \"\"\"{\n",
    "        \"Query\": \"What are the tools and software used for cluster analysis?\",\n",
    "        \n",
    "        \"Machine Learning\": \"R is a powerful open-source statistical software commonly used for cluster analysis in the context of machine learning. It provides a wide range of packages and functions for statistical analysis and data visualization.\",\n",
    "        \"Geography\": \"ArcGIS is a geographic information system (GIS) software used for spatial analysis and mapping.\"\n",
    "        }\"\"\"\n",
    "        example2 = \"\"\"{\n",
    "        \"Query\": \"What are some notable representations of 'spring'?\",\n",
    "        \n",
    "        \"Arts, Entertainment, and Media\": \"The painting 'Spring' by Sandro Botticelli is a famous representation of the season in art.\",\n",
    "        \"Music\": \"The song 'Spring' by Rammstein is a notable musical representation of the word.\",\n",
    "        \"Places\": \"Springs, New York, is a location associated with the name 'spring' in the United States.\"\n",
    "        }\"\"\"\n",
    "        knowledge = \"A polyseme '{}' could have several meanings across following fields.\\n\\n\".format(polyseme)\n",
    "        for i, val in enumerate(polyseme_wiki[polyseme]):\n",
    "            knowledge += '{}. {}.\\n'.format(i+1, val)\n",
    "        problem = \"If I ask 'what is {}?' then people from different domains would give different answers.\\n\".format(polyseme)\n",
    "        requirement1 = \"Make such ambiguous query that could have different answers across some of the fields provided related to the word '{}'\\n\".format(polyseme, polyseme)\n",
    "        requirement2 = \"The query should contain the word '{}'.\\n\".format(polyseme)\n",
    "        requirement3 = \"The important thing is that the answer could not be given for the query if which field you are talking about is not provided.\\n\"\n",
    "        requirement4 = \"Make a paired answer of each fields too with the provided information.\\n\"\n",
    "        requirement5 = \"It is important NOT to make a query to require diverse answers or require an answer in different fields. Assume that the query need an answer to a specific field, not a diverse information in diverse contexts. The query should rather be like 'Define kernel' than 'Define kernel in various domain' or 'Define kernel in different contexts.\\n\"\n",
    "        output_format = \"Give me in the format of python dictionary. Keys should be 'Query' and the chosen fields.\\n\"\n",
    "        ex_start = \"I'll give you an example first.\\n\"\n",
    "        prompt_start = \"It's your turn!\"\n",
    "        prompt = knowledge + '\\n\\n' + problem + requirement1 + requirement2 + requirement3 + requirement4 + requirement5 + '\\n' + output_format + ex_start +'\\n' + example1 + '\\n' + prompt_start\n",
    "\n",
    "        # if i == 18:\n",
    "        #     print(prompt)\n",
    "        #     break\n",
    "        \n",
    "        response = openai.ChatCompletion.create(\n",
    "            model=model,\n",
    "            messages=[{\"role\": \"user\", \"content\": prompt}],\n",
    "            temperature = 0\n",
    "        )\n",
    "        answer = response['choices'][0]['message']['content']\n",
    "        try:\n",
    "            dict_sample = json.loads(answer)\n",
    "            data[polyseme] = dict_sample\n",
    "        except:\n",
    "            print(\"answer is not in a dictionary format\")"
   ]
  },
  {
   "cell_type": "code",
   "execution_count": 13,
   "metadata": {},
   "outputs": [
    {
     "data": {
      "text/plain": [
       "171"
      ]
     },
     "execution_count": 13,
     "metadata": {},
     "output_type": "execute_result"
    }
   ],
   "source": [
    "len(data.keys())"
   ]
  },
  {
   "cell_type": "code",
   "execution_count": 14,
   "metadata": {},
   "outputs": [],
   "source": [
    "with open('./data/QA.json', 'w') as f:\n",
    "    json.dump(data, f)"
   ]
  },
  {
   "cell_type": "code",
   "execution_count": null,
   "metadata": {},
   "outputs": [],
   "source": []
  }
 ],
 "metadata": {
  "kernelspec": {
   "display_name": "ofa",
   "language": "python",
   "name": "python3"
  },
  "language_info": {
   "codemirror_mode": {
    "name": "ipython",
    "version": 3
   },
   "file_extension": ".py",
   "mimetype": "text/x-python",
   "name": "python",
   "nbconvert_exporter": "python",
   "pygments_lexer": "ipython3",
   "version": "3.7.4"
  }
 },
 "nbformat": 4,
 "nbformat_minor": 2
}
