{
 "cells": [
  {
   "cell_type": "code",
   "execution_count": 8,
   "metadata": {},
   "outputs": [],
   "source": [
    "import wikipediaapi"
   ]
  },
  {
   "cell_type": "code",
   "execution_count": 40,
   "metadata": {},
   "outputs": [
    {
     "name": "stdout",
     "output_type": "stream",
     "text": [
      "308\n",
      "306\n"
     ]
    }
   ],
   "source": [
    "import csv\n",
    "\n",
    "polyseme_file_path = \"./data/polyseme.tsv\"\n",
    "polyseme_list = []\n",
    "\n",
    "with open (polyseme_file_path) as f:\n",
    "    tr = csv.reader(f, delimiter='\\t')\n",
    "\n",
    "    for row in tr:\n",
    "        polyseme_list.append(row[0].lower())\n",
    "\n",
    "print(len(polyseme_list))\n",
    "\n",
    "polyseme_dict = {}\n",
    "\n",
    "for polyseme in polyseme_list:\n",
    "    polyseme_dict[polyseme] = []\n",
    "\n",
    "print(len(polyseme_dict.keys()))\n"
   ]
  },
  {
   "cell_type": "code",
   "execution_count": 48,
   "metadata": {},
   "outputs": [
    {
     "name": "stdout",
     "output_type": "stream",
     "text": [
      "total polyseme collected: 175\n",
      "not for disambiguation: 128\n",
      "polyseme does not exsist in wiki: 3\n"
     ]
    }
   ],
   "source": [
    "import wikipediaapi\n",
    "\n",
    "wiki = wikipediaapi.Wikipedia('polyseme_crawling','en')\n",
    "\n",
    "wiki_wiki = wikipediaapi.Wikipedia(\n",
    "    user_agent='polyseme_crawling',\n",
    "        language='en',\n",
    "        extract_format=wikipediaapi.ExtractFormat.WIKI\n",
    ")\n",
    "\n",
    "wrd_cnt = 0\n",
    "not_for_disamb_cnt = 0\n",
    "not_in_wiki_cnt = 0\n",
    "\n",
    "for polyseme in polyseme_dict.keys():\n",
    "    page_py = wiki_wiki.page(polyseme)\n",
    "    if page_py.exists():\n",
    "        if 'Category:Disambiguation pages' in page_py.categories:\n",
    "            # for s in page_py.sections:\n",
    "            #   print(s.title)\n",
    "            tmp = page_py.text\n",
    "            list = tmp.split('\\n\\n')\n",
    "            list = list[1:-2]\n",
    "            polyseme_dict[polyseme] = list\n",
    "            wrd_cnt += 1\n",
    "        else:\n",
    "            not_for_disamb_cnt += 1\n",
    "    else:\n",
    "        not_in_wiki_cnt += 1\n",
    "\n",
    "print(\"total polyseme collected: {}\".format(wrd_cnt))\n",
    "print(\"not for disambiguation: {}\".format(not_for_disamb_cnt))\n",
    "print(\"polyseme does not exsist in wiki: {}\".format(not_in_wiki_cnt))"
   ]
  },
  {
   "cell_type": "code",
   "execution_count": 60,
   "metadata": {},
   "outputs": [
    {
     "name": "stdout",
     "output_type": "stream",
     "text": [
      "304\n",
      "172\n"
     ]
    }
   ],
   "source": [
    "print(len(polyseme_dict.keys()))\n",
    "\n",
    "del_list = []\n",
    "for polyseme in polyseme_dict.keys():\n",
    "    if polyseme_dict[polyseme] == []:\n",
    "        del_list.append(polyseme)\n",
    "\n",
    "for del_item in del_list:\n",
    "    del polyseme_dict[del_item]\n",
    "\n",
    "print(len(polyseme_dict.keys()))"
   ]
  },
  {
   "cell_type": "code",
   "execution_count": 61,
   "metadata": {},
   "outputs": [
    {
     "name": "stdout",
     "output_type": "stream",
     "text": [
      "Dictionary saved to ./data/polyseme_wiki.json\n"
     ]
    }
   ],
   "source": [
    "import json\n",
    "\n",
    "save_file_path = './data/polyseme_wiki.json'\n",
    "\n",
    "with open(save_file_path, 'w') as json_file:\n",
    "    json.dump(polyseme_dict, json_file)\n",
    "\n",
    "print(f\"Dictionary saved to {save_file_path}\")"
   ]
  }
 ],
 "metadata": {
  "kernelspec": {
   "display_name": "deep-learning-21",
   "language": "python",
   "name": "deep-learning-21"
  },
  "language_info": {
   "codemirror_mode": {
    "name": "ipython",
    "version": 3
   },
   "file_extension": ".py",
   "mimetype": "text/x-python",
   "name": "python",
   "nbconvert_exporter": "python",
   "pygments_lexer": "ipython3",
   "version": "3.8.10"
  }
 },
 "nbformat": 4,
 "nbformat_minor": 2
}
