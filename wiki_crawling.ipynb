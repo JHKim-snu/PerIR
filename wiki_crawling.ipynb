{
 "cells": [
  {
   "cell_type": "code",
   "execution_count": 2,
   "metadata": {},
   "outputs": [],
   "source": [
    "import wikipediaapi"
   ]
  },
  {
   "cell_type": "code",
   "execution_count": 6,
   "metadata": {},
   "outputs": [],
   "source": [
    "wiki = wikipediaapi.Wikipedia('polyseme_crawling','en')\n"
   ]
  },
  {
   "cell_type": "code",
   "execution_count": 12,
   "metadata": {},
   "outputs": [
    {
     "data": {
      "text/plain": [
       "True"
      ]
     },
     "execution_count": 12,
     "metadata": {},
     "output_type": "execute_result"
    }
   ],
   "source": [
    "page_py = wiki.page('Kernel')\n",
    "page_py.exists()"
   ]
  },
  {
   "cell_type": "code",
   "execution_count": 13,
   "metadata": {},
   "outputs": [
    {
     "name": "stdout",
     "output_type": "stream",
     "text": [
      "Page - Title: Kernel\n",
      "Page - Summary: Kernel may refer to:\n"
     ]
    }
   ],
   "source": [
    "print(\"Page - Title: %s\" % page_py.title)\n",
    "print(\"Page - Summary: %s\" % page_py.summary[0:60])"
   ]
  },
  {
   "cell_type": "code",
   "execution_count": 15,
   "metadata": {},
   "outputs": [
    {
     "name": "stdout",
     "output_type": "stream",
     "text": [
      "Kernel may refer to:\n",
      "\n",
      "Computing\n",
      "Kernel (operating system), the central component of most operating systems\n",
      "Kernel (image processing), a matrix used for image convolution\n",
      "Compute kernel, in GPGPU programming\n",
      "Kernel method, in machine learning\n",
      "Kernelization, a technique for designing efficient algorithms\n",
      "Kernel, a routine that is executed in a vectorized loop, for example in general-purpose computing on graphics processing units\n",
      "KERNAL, the Commodore operating system\n",
      "\n",
      "Mathematics\n",
      "Objects\n",
      "Kernel (algebra), a general concept that includes:\n",
      "Kernel (linear algebra) or null space, a set of vectors mapped to the zero vector\n",
      "Kernel (category theory), a generalization of the kernel of a homomorphism\n",
      "Kernel (set theory), an equivalence relation: partition by image under a function\n",
      "Difference kernel, a binary equalizer: the kernel of the difference of two functions\n",
      "\n",
      "Functions\n",
      "Kernel (geometry), the set of points within a polygon from which the whole polygon boundary is visible\n",
      "Kernel (statistics), a weighting function used in kernel density estimation to estimate the probability density function of a random variable\n",
      "Integral kernel or kernel function, a function of two variables that defines an integral transform\n",
      "Heat kernel, the fundamental solution to the heat equation on a specified domain\n",
      "Convolution kernel\n",
      "Stochastic kernel, the transition function of a stochastic process\n",
      "Transition kernel, a generalization of a stochastic kernel\n",
      "Pricing kernel, the stochastic discount factor used in mathematical finance\n",
      "Positive-definite kernel, a generalization of a positive-definite matrix\n",
      "Kernel trick, in statistics\n",
      "Reproducing kernel Hilbert space\n",
      "\n",
      "Science\n",
      "Seed, inside the nut of most plants or the fruitstone of drupes, especially:\n",
      "Apricot kernel\n",
      "Corn kernel\n",
      "Palm kernel\n",
      "Wheat kernel\n",
      "Atomic nucleus, the center of an atom\n",
      "\n",
      "Companies\n",
      "Kernel (agriculture company), a Ukrainian producer of sunflower oil\n",
      "Kernel (neurotechnology company), a developer of neural interfaces\n",
      "The Kernel Brewery, a craft brewery in London\n",
      "The Kernel, an Internet culture website, now part of The Daily Dot\n",
      "\n",
      "Other uses\n",
      "Kernel (EP), by the band Seam\n",
      "Kernel Fleck, a character in The Demonata series of books\n",
      "Brigitte Kernel (born 1959), French journalist and writer\n",
      "\n",
      "See also\n",
      "Colonel, a senior military officer rank that is pronounced \"kernel\"\n"
     ]
    }
   ],
   "source": [
    "wiki_wiki = wikipediaapi.Wikipedia(\n",
    "    user_agent='polyseme_crawling',\n",
    "        language='en',\n",
    "        extract_format=wikipediaapi.ExtractFormat.WIKI\n",
    ")\n",
    "\n",
    "p_wiki = wiki_wiki.page(\"kernel\")\n",
    "print(p_wiki.text)"
   ]
  },
  {
   "cell_type": "code",
   "execution_count": 23,
   "metadata": {},
   "outputs": [
    {
     "name": "stdout",
     "output_type": "stream",
     "text": [
      "*: Computing - Kernel (operating system), the central c\n",
      "*: Mathematics - \n",
      "**: Objects - Kernel (algebra), a general concept that\n",
      "**: Functions - Kernel (geometry), the set of points wit\n",
      "*: Science - Seed, inside the nut of most plants or t\n",
      "*: Companies - Kernel (agriculture company), a Ukrainia\n",
      "*: Other uses - Kernel (EP), by the band Seam\n",
      "Kernel Fle\n",
      "*: See also - Colonel, a senior military officer rank \n"
     ]
    }
   ],
   "source": [
    "def print_sections(sections, level=0):\n",
    "        for s in sections:\n",
    "                print(\"%s: %s - %s\" % (\"*\" * (level + 1), s.title, s.text[:40]))\n",
    "                print_sections(s.sections, level + 1)\n",
    "\n",
    "print_sections(page_py.sections)"
   ]
  },
  {
   "cell_type": "code",
   "execution_count": 20,
   "metadata": {},
   "outputs": [
    {
     "data": {
      "text/plain": [
       "{'Category:All article disambiguation pages': Category:All article disambiguation pages (id: ??, ns: 14),\n",
       " 'Category:All disambiguation pages': Category:All disambiguation pages (id: ??, ns: 14),\n",
       " 'Category:Disambiguation pages': Category:Disambiguation pages (id: ??, ns: 14),\n",
       " 'Category:Short description is different from Wikidata': Category:Short description is different from Wikidata (id: ??, ns: 14)}"
      ]
     },
     "execution_count": 20,
     "metadata": {},
     "output_type": "execute_result"
    }
   ],
   "source": [
    "page_py.categories"
   ]
  },
  {
   "cell_type": "code",
   "execution_count": null,
   "metadata": {},
   "outputs": [],
   "source": [
    "import csv"
   ]
  }
 ],
 "metadata": {
  "kernelspec": {
   "display_name": "deep-learning-21",
   "language": "python",
   "name": "deep-learning-21"
  },
  "language_info": {
   "codemirror_mode": {
    "name": "ipython",
    "version": 3
   },
   "file_extension": ".py",
   "mimetype": "text/x-python",
   "name": "python",
   "nbconvert_exporter": "python",
   "pygments_lexer": "ipython3",
   "version": "3.8.10"
  }
 },
 "nbformat": 4,
 "nbformat_minor": 2
}
