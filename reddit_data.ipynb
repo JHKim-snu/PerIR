{
 "cells": [
  {
   "cell_type": "code",
   "execution_count": null,
   "metadata": {},
   "outputs": [],
   "source": [
    "subreddit_file_path = './data/subreddit.txt'\n",
    "subreddit_list = []\n",
    "\n",
    "with open(subreddit_file_path, 'r') as file:\n",
    "    for line in file:\n",
    "        subreddit_list.append(line[:-2])\n",
    "\n",
    "print(subreddit_list)\n",
    "print(len(subreddit_list))"
   ]
  },
  {
   "cell_type": "code",
   "execution_count": null,
   "metadata": {},
   "outputs": [],
   "source": [
    "import praw\n",
    "\n",
    "def find_matching_subreddits(section_names):\n",
    "    # Replace 'YOUR_CLIENT_ID', 'YOUR_CLIENT_SECRET', 'YOUR_USER_AGENT', 'YOUR_USERNAME', and 'YOUR_PASSWORD'\n",
    "    reddit = praw.Reddit(\n",
    "        client_id='YOUR_CLIENT_ID',\n",
    "        client_secret='YOUR_CLIENT_SECRET',\n",
    "        user_agent='YOUR_USER_AGENT',\n",
    "        username='YOUR_USERNAME',\n",
    "        password='YOUR_PASSWORD'\n",
    "    )\n",
    "\n",
    "    matching_subreddits = {}\n",
    "\n",
    "    for section_name in section_names:\n",
    "        print(f\"Searching for subreddits related to: {section_name}\")\n",
    "        subreddits = list(reddit.subreddit.search(section_name, sort='relevance', time_filter='all'))\n",
    "\n",
    "        # Extract subreddit names\n",
    "        subreddit_names = [subreddit.display_name.lower() for subreddit in subreddits]\n",
    "\n",
    "        matching_subreddits[section_name] = subreddit_names\n",
    "\n",
    "    return matching_subreddits\n",
    "\n",
    "if __name__ == \"__main__\":\n",
    "    # Replace with your Wikipedia section names\n",
    "    wikipedia_sections = [\"science and technology\", \"some other section\"]\n",
    "\n",
    "    matching_subreddits = find_matching_subreddits(wikipedia_sections)\n",
    "\n",
    "    # Display the matching subreddits for each Wikipedia section\n",
    "    for section_name, subreddits in matching_subreddits.items():\n",
    "        print(f\"Matching subreddits for '{section_name}': {', '.join(subreddits)}\")"
   ]
  }
 ],
 "metadata": {
  "language_info": {
   "name": "python"
  }
 },
 "nbformat": 4,
 "nbformat_minor": 2
}
