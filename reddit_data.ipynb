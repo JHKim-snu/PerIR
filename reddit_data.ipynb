{
 "cells": [
  {
   "cell_type": "code",
   "execution_count": null,
   "metadata": {},
   "outputs": [],
   "source": [
    "subreddit_file_path = './data/subreddit.txt'\n",
    "subreddit_list = []\n",
    "\n",
    "with open(subreddit_file_path, 'r') as file:\n",
    "    for line in file:\n",
    "        subreddit_list.append(line[:-2])\n",
    "\n",
    "print(subreddit_list)\n",
    "print(len(subreddit_list))"
   ]
  },
  {
   "cell_type": "code",
   "execution_count": 1,
   "metadata": {},
   "outputs": [],
   "source": []
  },
  {
   "cell_type": "code",
   "execution_count": 2,
   "metadata": {},
   "outputs": [
    {
     "name": "stdout",
     "output_type": "stream",
     "text": [
      "Searching for subreddits related to: science and technology\n"
     ]
    },
    {
     "ename": "AttributeError",
     "evalue": "'SubredditHelper' object has no attribute 'search'",
     "output_type": "error",
     "traceback": [
      "\u001b[0;31m---------------------------------------------------------------------------\u001b[0m",
      "\u001b[0;31mAttributeError\u001b[0m                            Traceback (most recent call last)",
      "\u001b[1;32m/home/jhkim/PerIR/reddit_data.ipynb Cell 3\u001b[0m line \u001b[0;36m<cell line: 24>\u001b[0;34m()\u001b[0m\n\u001b[1;32m     <a href='vscode-notebook-cell://ssh-remote%2B147.47.200.155/home/jhkim/PerIR/reddit_data.ipynb#W1sdnNjb2RlLXJlbW90ZQ%3D%3D?line=23'>24</a>\u001b[0m \u001b[39mif\u001b[39;00m \u001b[39m__name__\u001b[39m \u001b[39m==\u001b[39m \u001b[39m\"\u001b[39m\u001b[39m__main__\u001b[39m\u001b[39m\"\u001b[39m:\n\u001b[1;32m     <a href='vscode-notebook-cell://ssh-remote%2B147.47.200.155/home/jhkim/PerIR/reddit_data.ipynb#W1sdnNjb2RlLXJlbW90ZQ%3D%3D?line=24'>25</a>\u001b[0m     \u001b[39m# Replace with your Wikipedia section names\u001b[39;00m\n\u001b[1;32m     <a href='vscode-notebook-cell://ssh-remote%2B147.47.200.155/home/jhkim/PerIR/reddit_data.ipynb#W1sdnNjb2RlLXJlbW90ZQ%3D%3D?line=25'>26</a>\u001b[0m     wikipedia_sections \u001b[39m=\u001b[39m [\u001b[39m\"\u001b[39m\u001b[39mscience and technology\u001b[39m\u001b[39m\"\u001b[39m, \u001b[39m\"\u001b[39m\u001b[39msome other section\u001b[39m\u001b[39m\"\u001b[39m]\n\u001b[0;32m---> <a href='vscode-notebook-cell://ssh-remote%2B147.47.200.155/home/jhkim/PerIR/reddit_data.ipynb#W1sdnNjb2RlLXJlbW90ZQ%3D%3D?line=27'>28</a>\u001b[0m     matching_subreddits \u001b[39m=\u001b[39m find_matching_subreddits(wikipedia_sections)\n\u001b[1;32m     <a href='vscode-notebook-cell://ssh-remote%2B147.47.200.155/home/jhkim/PerIR/reddit_data.ipynb#W1sdnNjb2RlLXJlbW90ZQ%3D%3D?line=29'>30</a>\u001b[0m     \u001b[39m# Display the matching subreddits for each Wikipedia section\u001b[39;00m\n\u001b[1;32m     <a href='vscode-notebook-cell://ssh-remote%2B147.47.200.155/home/jhkim/PerIR/reddit_data.ipynb#W1sdnNjb2RlLXJlbW90ZQ%3D%3D?line=30'>31</a>\u001b[0m     \u001b[39mfor\u001b[39;00m section_name, subreddits \u001b[39min\u001b[39;00m matching_subreddits\u001b[39m.\u001b[39mitems():\n",
      "\u001b[1;32m/home/jhkim/PerIR/reddit_data.ipynb Cell 3\u001b[0m line \u001b[0;36mfind_matching_subreddits\u001b[0;34m(section_names)\u001b[0m\n\u001b[1;32m     <a href='vscode-notebook-cell://ssh-remote%2B147.47.200.155/home/jhkim/PerIR/reddit_data.ipynb#W1sdnNjb2RlLXJlbW90ZQ%3D%3D?line=12'>13</a>\u001b[0m \u001b[39mfor\u001b[39;00m section_name \u001b[39min\u001b[39;00m section_names:\n\u001b[1;32m     <a href='vscode-notebook-cell://ssh-remote%2B147.47.200.155/home/jhkim/PerIR/reddit_data.ipynb#W1sdnNjb2RlLXJlbW90ZQ%3D%3D?line=13'>14</a>\u001b[0m     \u001b[39mprint\u001b[39m(\u001b[39mf\u001b[39m\u001b[39m\"\u001b[39m\u001b[39mSearching for subreddits related to: \u001b[39m\u001b[39m{\u001b[39;00msection_name\u001b[39m}\u001b[39;00m\u001b[39m\"\u001b[39m)\n\u001b[0;32m---> <a href='vscode-notebook-cell://ssh-remote%2B147.47.200.155/home/jhkim/PerIR/reddit_data.ipynb#W1sdnNjb2RlLXJlbW90ZQ%3D%3D?line=14'>15</a>\u001b[0m     subreddits \u001b[39m=\u001b[39m \u001b[39mlist\u001b[39m(reddit\u001b[39m.\u001b[39;49msubreddit\u001b[39m.\u001b[39;49msearch(section_name, sort\u001b[39m=\u001b[39m\u001b[39m'\u001b[39m\u001b[39mrelevance\u001b[39m\u001b[39m'\u001b[39m, time_filter\u001b[39m=\u001b[39m\u001b[39m'\u001b[39m\u001b[39mall\u001b[39m\u001b[39m'\u001b[39m))\n\u001b[1;32m     <a href='vscode-notebook-cell://ssh-remote%2B147.47.200.155/home/jhkim/PerIR/reddit_data.ipynb#W1sdnNjb2RlLXJlbW90ZQ%3D%3D?line=16'>17</a>\u001b[0m     \u001b[39m# Extract subreddit names\u001b[39;00m\n\u001b[1;32m     <a href='vscode-notebook-cell://ssh-remote%2B147.47.200.155/home/jhkim/PerIR/reddit_data.ipynb#W1sdnNjb2RlLXJlbW90ZQ%3D%3D?line=17'>18</a>\u001b[0m     subreddit_names \u001b[39m=\u001b[39m [subreddit\u001b[39m.\u001b[39mdisplay_name\u001b[39m.\u001b[39mlower() \u001b[39mfor\u001b[39;00m subreddit \u001b[39min\u001b[39;00m subreddits]\n",
      "\u001b[0;31mAttributeError\u001b[0m: 'SubredditHelper' object has no attribute 'search'"
     ]
    }
   ],
   "source": [
    "import praw\n",
    "\n",
    "def find_matching_subreddits(section_names):\n",
    "    # Replace 'YOUR_CLIENT_ID', 'YOUR_CLIENT_SECRET', 'YOUR_USER_AGENT', 'YOUR_USERNAME', and 'YOUR_PASSWORD'\n",
    "    reddit = praw.Reddit(\n",
    "        client_id='YOUR_CLIENT_ID',\n",
    "        client_secret='YOUR_CLIENT_SECRET',\n",
    "        user_agent='YOUR_USER_AGENT',\n",
    "        username='YOUR_USERNAME',\n",
    "        password='YOUR_PASSWORD'\n",
    "    )\n",
    "\n",
    "    matching_subreddits = {}\n",
    "\n",
    "    for section_name in section_names:\n",
    "        print(f\"Searching for subreddits related to: {section_name}\")\n",
    "        subreddits = list(reddit.subreddit.search(section_name, sort='relevance', time_filter='all'))\n",
    "\n",
    "        # Extract subreddit names\n",
    "        subreddit_names = [subreddit.display_name.lower() for subreddit in subreddits]\n",
    "\n",
    "        matching_subreddits[section_name] = subreddit_names\n",
    "\n",
    "    return matching_subreddits\n",
    "\n",
    "if __name__ == \"__main__\":\n",
    "    # Replace with your Wikipedia section names\n",
    "    wikipedia_sections = [\"science and technology\", \"some other section\"]\n",
    "\n",
    "    matching_subreddits = find_matching_subreddits(wikipedia_sections)\n",
    "\n",
    "    # Display the matching subreddits for each Wikipedia section\n",
    "    for section_name, subreddits in matching_subreddits.items():\n",
    "        print(f\"Matching subreddits for '{section_name}': {', '.join(subreddits)}\")"
   ]
  },
  {
   "cell_type": "code",
   "execution_count": null,
   "metadata": {},
   "outputs": [],
   "source": []
  }
 ],
 "metadata": {
  "kernelspec": {
   "display_name": "deep-learning-21",
   "language": "python",
   "name": "deep-learning-21"
  },
  "language_info": {
   "codemirror_mode": {
    "name": "ipython",
    "version": 3
   },
   "file_extension": ".py",
   "mimetype": "text/x-python",
   "name": "python",
   "nbconvert_exporter": "python",
   "pygments_lexer": "ipython3",
   "version": "3.8.10"
  }
 },
 "nbformat": 4,
 "nbformat_minor": 2
}
